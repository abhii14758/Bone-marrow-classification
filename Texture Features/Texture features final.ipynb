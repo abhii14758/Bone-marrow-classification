{
 "cells": [
  {
   "cell_type": "code",
   "execution_count": 2,
   "id": "f3d04c2f",
   "metadata": {},
   "outputs": [],
   "source": [
    "import os\n",
    "import numpy as np\n",
    "from sklearn.model_selection import train_test_split\n",
    "from tensorflow.keras.preprocessing.image import load_img, img_to_array\n",
    "from tensorflow.keras.utils import to_categorical\n",
    "from tqdm import tqdm\n",
    "from keras.models import load_model\n",
    "from skimage.feature import graycomatrix, graycoprops\n",
    "from sklearn.svm import SVC\n",
    "from sklearn.preprocessing import LabelEncoder\n",
    "from sklearn.metrics import confusion_matrix\n",
    "import seaborn as sns\n",
    "import cv2\n",
    "from sklearn.model_selection import GridSearchCV\n",
    "from sklearn.metrics import accuracy_score\n",
    "from sklearn.svm import SVC\n",
    "from sklearn.ensemble import RandomForestClassifier\n",
    "from sklearn.linear_model import LogisticRegression\n",
    "from sklearn.tree import DecisionTreeClassifier\n",
    "import pandas as pd\n",
    "from tensorflow.keras.layers import Input"
   ]
  },
  {
   "cell_type": "code",
   "execution_count": 3,
   "id": "55b9cc99",
   "metadata": {},
   "outputs": [],
   "source": [
    "# Function to extract texture features\n",
    "def TextureFeatureExtract(img_path):\n",
    "    img = cv2.imread(img_path)\n",
    "    img = cv2.cvtColor(img, cv2.COLOR_BGR2GRAY)  # Convert image to grayscale\n",
    "    g = graycomatrix(img, [1], [0, np.pi / 2], levels=256)\n",
    "    energy = np.ravel(graycoprops(g, 'energy'))\n",
    "    contrast = np.ravel(graycoprops(g, 'contrast'))\n",
    "    correlation = np.ravel(graycoprops(g, 'correlation'))\n",
    "    homogeneity = np.ravel(graycoprops(g, 'homogeneity'))\n",
    "    dissimilarity = np.ravel(graycoprops(g, 'dissimilarity'))\n",
    "    ASM = np.ravel(graycoprops(g, 'ASM'))\n",
    "    return np.concatenate((energy, contrast, correlation, homogeneity, dissimilarity, ASM))"
   ]
  },
  {
   "cell_type": "code",
   "execution_count": 4,
   "id": "d8f0a06d",
   "metadata": {},
   "outputs": [],
   "source": [
    "# List to store image paths and labels\n",
    "image_paths = []\n",
    "labels = []"
   ]
  },
  {
   "cell_type": "code",
   "execution_count": 5,
   "id": "9b0f166d",
   "metadata": {},
   "outputs": [
    {
     "name": "stderr",
     "output_type": "stream",
     "text": [
      "Processing ART/0001-1000: 100%|██████████████████████████████████████████████| 1000/1000 [00:00<00:00, 19746.26it/s]\n",
      "Processing ART/10001-11000: 100%|████████████████████████████████████████████| 1000/1000 [00:00<00:00, 16789.10it/s]\n",
      "Processing ART/1001-2000: 100%|██████████████████████████████████████████████| 1000/1000 [00:00<00:00, 19976.02it/s]\n",
      "Processing ART/11001-12000: 100%|████████████████████████████████████████████| 1000/1000 [00:00<00:00, 17668.56it/s]\n",
      "Processing ART/12001-13000: 100%|████████████████████████████████████████████| 1000/1000 [00:00<00:00, 18111.37it/s]\n",
      "Processing ART/13001-14000: 100%|████████████████████████████████████████████| 1000/1000 [00:00<00:00, 17516.77it/s]\n",
      "Processing ART/14001-15000: 100%|████████████████████████████████████████████| 1000/1000 [00:00<00:00, 17997.37it/s]\n",
      "Processing ART/15001-16000: 100%|████████████████████████████████████████████| 1000/1000 [00:00<00:00, 17525.85it/s]\n",
      "Processing ART/16001-17000: 100%|████████████████████████████████████████████| 1000/1000 [00:00<00:00, 18000.22it/s]\n",
      "Processing ART/17001-18000: 100%|████████████████████████████████████████████| 1000/1000 [00:00<00:00, 16610.84it/s]\n",
      "Processing ART/18001-19000: 100%|████████████████████████████████████████████| 1000/1000 [00:00<00:00, 17376.28it/s]\n",
      "Processing ART/19001-19630: 100%|██████████████████████████████████████████████| 630/630 [00:00<00:00, 17850.88it/s]\n",
      "Processing ART/2001-3000: 100%|██████████████████████████████████████████████| 1000/1000 [00:00<00:00, 20699.83it/s]\n",
      "Processing ART/3001-4000: 100%|██████████████████████████████████████████████| 1000/1000 [00:00<00:00, 19966.51it/s]\n",
      "Processing ART/4001-5000: 100%|██████████████████████████████████████████████| 1000/1000 [00:00<00:00, 19732.61it/s]\n",
      "Processing ART/5001-6000: 100%|██████████████████████████████████████████████| 1000/1000 [00:00<00:00, 20026.85it/s]\n",
      "Processing ART/6001-7000: 100%|██████████████████████████████████████████████| 1000/1000 [00:00<00:00, 19622.29it/s]\n",
      "Processing ART/7001-8000: 100%|██████████████████████████████████████████████| 1000/1000 [00:00<00:00, 18876.94it/s]\n",
      "Processing ART/8001-9000: 100%|██████████████████████████████████████████████| 1000/1000 [00:00<00:00, 17942.01it/s]\n",
      "Processing ART/9001-10000: 100%|█████████████████████████████████████████████| 1000/1000 [00:00<00:00, 18444.77it/s]\n",
      "Processing BLA/0001-1000: 100%|██████████████████████████████████████████████| 1000/1000 [00:00<00:00, 19357.76it/s]\n",
      "Processing BLA/10001-11000: 100%|████████████████████████████████████████████| 1000/1000 [00:00<00:00, 14444.99it/s]\n",
      "Processing BLA/1001-2000: 100%|██████████████████████████████████████████████| 1000/1000 [00:00<00:00, 15451.65it/s]\n",
      "Processing BLA/11001-11973: 100%|██████████████████████████████████████████████| 973/973 [00:00<00:00, 14591.26it/s]\n",
      "Processing BLA/2001-3000: 100%|██████████████████████████████████████████████| 1000/1000 [00:00<00:00, 15986.52it/s]\n",
      "Processing BLA/3001-4000: 100%|██████████████████████████████████████████████| 1000/1000 [00:00<00:00, 20401.50it/s]\n",
      "Processing BLA/4001-5000: 100%|██████████████████████████████████████████████| 1000/1000 [00:00<00:00, 15888.30it/s]\n",
      "Processing BLA/5001-6000: 100%|██████████████████████████████████████████████| 1000/1000 [00:00<00:00, 19737.44it/s]\n",
      "Processing BLA/6001-7000: 100%|██████████████████████████████████████████████| 1000/1000 [00:00<00:00, 18746.58it/s]\n",
      "Processing BLA/7001-8000: 100%|██████████████████████████████████████████████| 1000/1000 [00:00<00:00, 19559.52it/s]\n",
      "Processing BLA/8001-9000: 100%|██████████████████████████████████████████████| 1000/1000 [00:00<00:00, 19971.26it/s]\n",
      "Processing BLA/9001-10000: 100%|█████████████████████████████████████████████| 1000/1000 [00:00<00:00, 18108.95it/s]\n",
      "Processing EBO/0001-1000: 100%|██████████████████████████████████████████████| 1000/1000 [00:00<00:00, 19573.12it/s]\n",
      "Processing EBO/10001-11000: 100%|████████████████████████████████████████████| 1000/1000 [00:00<00:00, 17833.23it/s]\n",
      "Processing EBO/1001-2000: 100%|██████████████████████████████████████████████| 1000/1000 [00:00<00:00, 19044.07it/s]\n",
      "Processing EBO/11001-12000: 100%|████████████████████████████████████████████| 1000/1000 [00:00<00:00, 17417.77it/s]\n",
      "Processing EBO/12001-13000: 100%|████████████████████████████████████████████| 1000/1000 [00:00<00:00, 16267.96it/s]\n",
      "Processing EBO/13001-14000: 100%|████████████████████████████████████████████| 1000/1000 [00:00<00:00, 15026.56it/s]\n",
      "Processing EBO/14001-15000: 100%|████████████████████████████████████████████| 1000/1000 [00:00<00:00, 15823.20it/s]\n",
      "Processing EBO/15001-16000: 100%|████████████████████████████████████████████| 1000/1000 [00:00<00:00, 16276.68it/s]\n",
      "Processing EBO/16001-17000: 100%|████████████████████████████████████████████| 1000/1000 [00:00<00:00, 19048.65it/s]\n",
      "Processing EBO/17001-18000: 100%|████████████████████████████████████████████| 1000/1000 [00:00<00:00, 15835.03it/s]\n",
      "Processing EBO/18001-19000: 100%|████████████████████████████████████████████| 1000/1000 [00:00<00:00, 17675.71it/s]\n",
      "Processing EBO/19001-20000: 100%|████████████████████████████████████████████| 1000/1000 [00:00<00:00, 17397.61it/s]\n",
      "Processing EBO/20001-21000: 100%|████████████████████████████████████████████| 1000/1000 [00:00<00:00, 17158.69it/s]\n",
      "Processing EBO/2001-3000: 100%|██████████████████████████████████████████████| 1000/1000 [00:00<00:00, 19651.71it/s]\n",
      "Processing EBO/21001-22000: 100%|████████████████████████████████████████████| 1000/1000 [00:00<00:00, 17130.10it/s]\n",
      "Processing EBO/22001-23000: 100%|████████████████████████████████████████████| 1000/1000 [00:00<00:00, 17974.92it/s]\n",
      "Processing EBO/23001-24000: 100%|████████████████████████████████████████████| 1000/1000 [00:00<00:00, 16906.59it/s]\n",
      "Processing EBO/24001-25000: 100%|████████████████████████████████████████████| 1000/1000 [00:00<00:00, 18704.78it/s]\n",
      "Processing EBO/25001-26000: 100%|████████████████████████████████████████████| 1000/1000 [00:00<00:00, 16425.45it/s]\n",
      "Processing EBO/26001-27000: 100%|████████████████████████████████████████████| 1000/1000 [00:00<00:00, 16810.30it/s]\n",
      "Processing EBO/27001-27395: 100%|██████████████████████████████████████████████| 395/395 [00:00<00:00, 16895.27it/s]\n",
      "Processing EBO/3001-4000: 100%|██████████████████████████████████████████████| 1000/1000 [00:00<00:00, 20039.77it/s]\n",
      "Processing EBO/4001-5000: 100%|██████████████████████████████████████████████| 1000/1000 [00:00<00:00, 20278.99it/s]\n",
      "Processing EBO/5001-6000: 100%|██████████████████████████████████████████████| 1000/1000 [00:00<00:00, 20840.64it/s]\n",
      "Processing EBO/6001-7000: 100%|██████████████████████████████████████████████| 1000/1000 [00:00<00:00, 20776.74it/s]\n",
      "Processing EBO/7001-8000: 100%|██████████████████████████████████████████████| 1000/1000 [00:00<00:00, 20447.75it/s]\n",
      "Processing EBO/8001-9000: 100%|██████████████████████████████████████████████| 1000/1000 [00:00<00:00, 19965.46it/s]\n",
      "Processing EBO/9001-10000: 100%|█████████████████████████████████████████████| 1000/1000 [00:00<00:00, 18578.02it/s]\n",
      "Processing EOS/0001-1000: 100%|██████████████████████████████████████████████| 1000/1000 [00:00<00:00, 20309.53it/s]\n",
      "Processing EOS/1001-2000: 100%|██████████████████████████████████████████████| 1000/1000 [00:00<00:00, 20829.88it/s]\n",
      "Processing EOS/2001-3000: 100%|██████████████████████████████████████████████| 1000/1000 [00:00<00:00, 18758.57it/s]\n",
      "Processing EOS/3001-4000: 100%|██████████████████████████████████████████████| 1000/1000 [00:00<00:00, 18444.93it/s]\n",
      "Processing EOS/4001-5000: 100%|██████████████████████████████████████████████| 1000/1000 [00:00<00:00, 20018.73it/s]\n",
      "Processing EOS/5001-5883: 100%|████████████████████████████████████████████████| 883/883 [00:00<00:00, 18360.05it/s]\n",
      "Processing LYT/0001-1000: 100%|██████████████████████████████████████████████| 1000/1000 [00:00<00:00, 20431.12it/s]\n",
      "Processing LYT/10001-11000: 100%|████████████████████████████████████████████| 1000/1000 [00:00<00:00, 16310.22it/s]\n",
      "Processing LYT/1001-2000: 100%|██████████████████████████████████████████████| 1000/1000 [00:00<00:00, 16892.01it/s]\n",
      "Processing LYT/11001-12000: 100%|████████████████████████████████████████████| 1000/1000 [00:00<00:00, 18342.57it/s]\n"
     ]
    },
    {
     "name": "stderr",
     "output_type": "stream",
     "text": [
      "Processing LYT/12001-13000: 100%|████████████████████████████████████████████| 1000/1000 [00:00<00:00, 15512.34it/s]\n",
      "Processing LYT/13001-14000: 100%|████████████████████████████████████████████| 1000/1000 [00:00<00:00, 17505.81it/s]\n",
      "Processing LYT/14001-15000: 100%|████████████████████████████████████████████| 1000/1000 [00:00<00:00, 17722.84it/s]\n",
      "Processing LYT/15001-16000: 100%|████████████████████████████████████████████| 1000/1000 [00:00<00:00, 16598.68it/s]\n",
      "Processing LYT/16001-17000: 100%|████████████████████████████████████████████| 1000/1000 [00:00<00:00, 18693.36it/s]\n",
      "Processing LYT/17001-18000: 100%|████████████████████████████████████████████| 1000/1000 [00:00<00:00, 15817.06it/s]\n",
      "Processing LYT/18001-19000: 100%|████████████████████████████████████████████| 1000/1000 [00:00<00:00, 17726.81it/s]\n",
      "Processing LYT/19001-20000: 100%|████████████████████████████████████████████| 1000/1000 [00:00<00:00, 18511.20it/s]\n",
      "Processing LYT/20001-21000: 100%|████████████████████████████████████████████| 1000/1000 [00:00<00:00, 16988.21it/s]\n",
      "Processing LYT/2001-3000: 100%|██████████████████████████████████████████████| 1000/1000 [00:00<00:00, 19445.62it/s]\n",
      "Processing LYT/21001-22000: 100%|████████████████████████████████████████████| 1000/1000 [00:00<00:00, 16984.49it/s]\n",
      "Processing LYT/22001-23000: 100%|████████████████████████████████████████████| 1000/1000 [00:00<00:00, 18502.05it/s]\n",
      "Processing LYT/23001-24000: 100%|████████████████████████████████████████████| 1000/1000 [00:00<00:00, 16675.89it/s]\n",
      "Processing LYT/24001-25000: 100%|████████████████████████████████████████████| 1000/1000 [00:00<00:00, 18658.52it/s]\n",
      "Processing LYT/25001-26000: 100%|████████████████████████████████████████████| 1000/1000 [00:00<00:00, 16835.60it/s]\n",
      "Processing LYT/26001-26242: 100%|██████████████████████████████████████████████| 242/242 [00:00<00:00, 23762.09it/s]\n",
      "Processing LYT/3001-4000: 100%|██████████████████████████████████████████████| 1000/1000 [00:00<00:00, 16991.86it/s]\n",
      "Processing LYT/4001-5000: 100%|██████████████████████████████████████████████| 1000/1000 [00:00<00:00, 20283.01it/s]\n",
      "Processing LYT/5001-6000: 100%|██████████████████████████████████████████████| 1000/1000 [00:00<00:00, 20850.07it/s]\n",
      "Processing LYT/6001-7000: 100%|██████████████████████████████████████████████| 1000/1000 [00:00<00:00, 20827.70it/s]\n",
      "Processing LYT/7001-8000: 100%|██████████████████████████████████████████████| 1000/1000 [00:00<00:00, 20373.66it/s]\n",
      "Processing LYT/8001-9000: 100%|██████████████████████████████████████████████| 1000/1000 [00:00<00:00, 20639.74it/s]\n",
      "Processing LYT/9001-10000: 100%|█████████████████████████████████████████████| 1000/1000 [00:00<00:00, 18189.05it/s]\n",
      "Processing MMZ/0001-1000: 100%|██████████████████████████████████████████████| 1000/1000 [00:00<00:00, 18776.79it/s]\n",
      "Processing MMZ/1001-2000: 100%|██████████████████████████████████████████████| 1000/1000 [00:00<00:00, 20846.75it/s]\n",
      "Processing MMZ/2001-3000: 100%|██████████████████████████████████████████████| 1000/1000 [00:00<00:00, 20255.20it/s]\n",
      "Processing MMZ/3001-3055: 100%|██████████████████████████████████████████████████| 55/55 [00:00<00:00, 18384.34it/s]\n",
      "Processing MON/0001-1000: 100%|██████████████████████████████████████████████| 1000/1000 [00:00<00:00, 19392.94it/s]\n",
      "Processing MON/1001-2000: 100%|██████████████████████████████████████████████| 1000/1000 [00:00<00:00, 20088.82it/s]\n",
      "Processing MON/2001-3000: 100%|██████████████████████████████████████████████| 1000/1000 [00:00<00:00, 20317.60it/s]\n",
      "Processing MON/3001-4000: 100%|██████████████████████████████████████████████| 1000/1000 [00:00<00:00, 20484.50it/s]\n",
      "Processing MON/4001-4040: 100%|██████████████████████████████████████████████████| 40/40 [00:00<00:00, 20044.46it/s]\n",
      "Processing MYB/0001-1000: 100%|██████████████████████████████████████████████| 1000/1000 [00:00<00:00, 19953.87it/s]\n",
      "Processing MYB/1001-2000: 100%|██████████████████████████████████████████████| 1000/1000 [00:00<00:00, 20270.66it/s]\n",
      "Processing MYB/2001-3000: 100%|██████████████████████████████████████████████| 1000/1000 [00:00<00:00, 20624.82it/s]\n",
      "Processing MYB/3001-4000: 100%|██████████████████████████████████████████████| 1000/1000 [00:00<00:00, 21242.04it/s]\n",
      "Processing MYB/4001-5000: 100%|██████████████████████████████████████████████| 1000/1000 [00:00<00:00, 20452.54it/s]\n",
      "Processing MYB/5001-6000: 100%|██████████████████████████████████████████████| 1000/1000 [00:00<00:00, 21188.60it/s]\n",
      "Processing MYB/6001-6557: 100%|████████████████████████████████████████████████| 557/557 [00:00<00:00, 20239.17it/s]\n",
      "Processing NGB/0001-1000: 100%|██████████████████████████████████████████████| 1000/1000 [00:00<00:00, 21094.50it/s]\n",
      "Processing NGB/1001-2000: 100%|██████████████████████████████████████████████| 1000/1000 [00:00<00:00, 20317.89it/s]\n",
      "Processing NGB/2001-3000: 100%|██████████████████████████████████████████████| 1000/1000 [00:00<00:00, 21508.48it/s]\n",
      "Processing NGB/3001-4000: 100%|██████████████████████████████████████████████| 1000/1000 [00:00<00:00, 20761.00it/s]\n",
      "Processing NGB/4001-5000: 100%|██████████████████████████████████████████████| 1000/1000 [00:00<00:00, 21140.01it/s]\n",
      "Processing NGB/5001-6000: 100%|██████████████████████████████████████████████| 1000/1000 [00:00<00:00, 20976.03it/s]\n",
      "Processing NGB/6001-7000: 100%|██████████████████████████████████████████████| 1000/1000 [00:00<00:00, 20840.23it/s]\n",
      "Processing NGB/7001-8000: 100%|██████████████████████████████████████████████| 1000/1000 [00:00<00:00, 20836.60it/s]\n",
      "Processing NGB/8001-9000: 100%|██████████████████████████████████████████████| 1000/1000 [00:00<00:00, 19354.90it/s]\n",
      "Processing NGB/9001-9968: 100%|████████████████████████████████████████████████| 968/968 [00:00<00:00, 19773.18it/s]\n",
      "Processing NGS/0001-1000: 100%|██████████████████████████████████████████████| 1000/1000 [00:00<00:00, 20198.52it/s]\n",
      "Processing NGS/10001-11000: 100%|████████████████████████████████████████████| 1000/1000 [00:00<00:00, 17743.98it/s]\n",
      "Processing NGS/1001-2000: 100%|██████████████████████████████████████████████| 1000/1000 [00:00<00:00, 20109.91it/s]\n",
      "Processing NGS/11001-12000: 100%|████████████████████████████████████████████| 1000/1000 [00:00<00:00, 18517.73it/s]\n",
      "Processing NGS/12001-13000: 100%|████████████████████████████████████████████| 1000/1000 [00:00<00:00, 18883.14it/s]\n",
      "Processing NGS/13001-14000: 100%|████████████████████████████████████████████| 1000/1000 [00:00<00:00, 17665.73it/s]\n",
      "Processing NGS/14001-15000: 100%|████████████████████████████████████████████| 1000/1000 [00:00<00:00, 18585.02it/s]\n",
      "Processing NGS/15001-16000: 100%|████████████████████████████████████████████| 1000/1000 [00:00<00:00, 18708.62it/s]\n",
      "Processing NGS/16001-17000: 100%|████████████████████████████████████████████| 1000/1000 [00:00<00:00, 17892.57it/s]\n",
      "Processing NGS/17001-18000: 100%|████████████████████████████████████████████| 1000/1000 [00:00<00:00, 18539.67it/s]\n",
      "Processing NGS/18001-19000: 100%|████████████████████████████████████████████| 1000/1000 [00:00<00:00, 18217.17it/s]\n",
      "Processing NGS/19001-20000: 100%|████████████████████████████████████████████| 1000/1000 [00:00<00:00, 18688.20it/s]\n",
      "Processing NGS/20001-21000: 100%|████████████████████████████████████████████| 1000/1000 [00:00<00:00, 17452.12it/s]\n",
      "Processing NGS/2001-3000: 100%|██████████████████████████████████████████████| 1000/1000 [00:00<00:00, 20900.04it/s]\n",
      "Processing NGS/21001-22000: 100%|████████████████████████████████████████████| 1000/1000 [00:00<00:00, 18813.52it/s]\n",
      "Processing NGS/22001-23000: 100%|████████████████████████████████████████████| 1000/1000 [00:00<00:00, 18392.60it/s]\n",
      "Processing NGS/23001-24000: 100%|████████████████████████████████████████████| 1000/1000 [00:00<00:00, 18245.94it/s]\n",
      "Processing NGS/24001-25000: 100%|████████████████████████████████████████████| 1000/1000 [00:00<00:00, 19323.51it/s]\n",
      "Processing NGS/25001-26000: 100%|████████████████████████████████████████████| 1000/1000 [00:00<00:00, 17230.73it/s]\n",
      "Processing NGS/26001-27000: 100%|████████████████████████████████████████████| 1000/1000 [00:00<00:00, 18350.52it/s]\n",
      "Processing NGS/27001-28000: 100%|████████████████████████████████████████████| 1000/1000 [00:00<00:00, 17780.01it/s]\n"
     ]
    },
    {
     "name": "stderr",
     "output_type": "stream",
     "text": [
      "Processing NGS/28001-29000: 100%|████████████████████████████████████████████| 1000/1000 [00:00<00:00, 19204.51it/s]\n",
      "Processing NGS/29001-29424: 100%|██████████████████████████████████████████████| 424/424 [00:00<00:00, 18112.04it/s]\n",
      "Processing NGS/3001-4000: 100%|██████████████████████████████████████████████| 1000/1000 [00:00<00:00, 20932.27it/s]\n",
      "Processing NGS/4001-5000: 100%|██████████████████████████████████████████████| 1000/1000 [00:00<00:00, 20700.75it/s]\n",
      "Processing NGS/5001-6000: 100%|██████████████████████████████████████████████| 1000/1000 [00:00<00:00, 21377.04it/s]\n",
      "Processing NGS/6001-7000: 100%|██████████████████████████████████████████████| 1000/1000 [00:00<00:00, 21248.06it/s]\n",
      "Processing NGS/7001-8000: 100%|██████████████████████████████████████████████| 1000/1000 [00:00<00:00, 20782.92it/s]\n",
      "Processing NGS/8001-9000: 100%|██████████████████████████████████████████████| 1000/1000 [00:00<00:00, 20121.29it/s]\n",
      "Processing NGS/9001-10000: 100%|█████████████████████████████████████████████| 1000/1000 [00:00<00:00, 19007.22it/s]\n",
      "Processing NIF/0001-1000: 100%|██████████████████████████████████████████████| 1000/1000 [00:00<00:00, 19440.66it/s]\n",
      "Processing NIF/1001-2000: 100%|██████████████████████████████████████████████| 1000/1000 [00:00<00:00, 19998.87it/s]\n",
      "Processing NIF/2001-3000: 100%|██████████████████████████████████████████████| 1000/1000 [00:00<00:00, 21268.86it/s]\n",
      "Processing NIF/3001-3538: 100%|████████████████████████████████████████████████| 538/538 [00:00<00:00, 19829.48it/s]\n",
      "Processing PEB/0001-1000: 100%|██████████████████████████████████████████████| 1000/1000 [00:00<00:00, 18418.04it/s]\n",
      "Processing PEB/1001-2000: 100%|██████████████████████████████████████████████| 1000/1000 [00:00<00:00, 21127.12it/s]\n",
      "Processing PEB/2001-2740: 100%|████████████████████████████████████████████████| 740/740 [00:00<00:00, 21134.17it/s]\n",
      "Processing PLM/0001-1000: 100%|██████████████████████████████████████████████| 1000/1000 [00:00<00:00, 19842.39it/s]\n",
      "Processing PLM/1001-2000: 100%|██████████████████████████████████████████████| 1000/1000 [00:00<00:00, 19929.70it/s]\n",
      "Processing PLM/2001-3000: 100%|██████████████████████████████████████████████| 1000/1000 [00:00<00:00, 20059.23it/s]\n",
      "Processing PLM/3001-4000: 100%|██████████████████████████████████████████████| 1000/1000 [00:00<00:00, 20739.96it/s]\n",
      "Processing PLM/4001-5000: 100%|██████████████████████████████████████████████| 1000/1000 [00:00<00:00, 20882.77it/s]\n",
      "Processing PLM/5001-6000: 100%|██████████████████████████████████████████████| 1000/1000 [00:00<00:00, 21192.67it/s]\n",
      "Processing PLM/6001-7000: 100%|██████████████████████████████████████████████| 1000/1000 [00:00<00:00, 21510.69it/s]\n",
      "Processing PLM/7001-7629: 100%|████████████████████████████████████████████████| 629/629 [00:00<00:00, 20346.57it/s]\n",
      "Processing PMO/0001-1000: 100%|██████████████████████████████████████████████| 1000/1000 [00:00<00:00, 20699.53it/s]\n",
      "Processing PMO/10001-11000: 100%|████████████████████████████████████████████| 1000/1000 [00:00<00:00, 19357.40it/s]\n",
      "Processing PMO/1001-2000: 100%|██████████████████████████████████████████████| 1000/1000 [00:00<00:00, 19167.13it/s]\n",
      "Processing PMO/11001-11994: 100%|██████████████████████████████████████████████| 994/994 [00:00<00:00, 19151.46it/s]\n",
      "Processing PMO/2001-3000: 100%|██████████████████████████████████████████████| 1000/1000 [00:00<00:00, 21224.09it/s]\n",
      "Processing PMO/3001-4000: 100%|██████████████████████████████████████████████| 1000/1000 [00:00<00:00, 20918.39it/s]\n",
      "Processing PMO/4001-5000: 100%|██████████████████████████████████████████████| 1000/1000 [00:00<00:00, 21125.53it/s]\n",
      "Processing PMO/5001-6000: 100%|██████████████████████████████████████████████| 1000/1000 [00:00<00:00, 20968.17it/s]\n",
      "Processing PMO/6001-7000: 100%|██████████████████████████████████████████████| 1000/1000 [00:00<00:00, 21163.37it/s]\n",
      "Processing PMO/7001-8000: 100%|██████████████████████████████████████████████| 1000/1000 [00:00<00:00, 20945.34it/s]\n",
      "Processing PMO/8001-9000: 100%|██████████████████████████████████████████████| 1000/1000 [00:00<00:00, 20906.60it/s]\n",
      "Processing PMO/9001-10000: 100%|█████████████████████████████████████████████| 1000/1000 [00:00<00:00, 18487.70it/s]\n"
     ]
    }
   ],
   "source": [
    "# Path to your dataset\n",
    "data_dir = r'E:\\COLLEGE WORK\\SEM 5\\Machine Learning\\Bone marrow classification\\Dataset\\bone_marrow_cell_dataset'\n",
    "\n",
    "# Loop through class directories\n",
    "for class_name in os.listdir(data_dir):\n",
    "    class_dir = os.path.join(data_dir, class_name)\n",
    "    if os.path.isdir(class_dir):\n",
    "        for sub_dir_name in os.listdir(class_dir):\n",
    "            sub_dir_path = os.path.join(class_dir, sub_dir_name)\n",
    "            if os.path.isdir(sub_dir_path):\n",
    "                for img_name in tqdm(os.listdir(sub_dir_path), desc=f\"Processing {class_name}/{sub_dir_name}\"):\n",
    "                    img_path = os.path.join(sub_dir_path, img_name)\n",
    "                    if os.path.isfile(img_path):\n",
    "                        image_paths.append(img_path)\n",
    "                        labels.append(class_name)\n",
    "            else:\n",
    "                img_path = os.path.join(class_dir, sub_dir_name)\n",
    "                if os.path.isfile(img_path):\n",
    "                    image_paths.append(img_path)\n",
    "                    labels.append(class_name)\n",
    "    else:\n",
    "        img_path = class_dir  # For classes without subdirectories\n",
    "        if os.path.isfile(img_path):\n",
    "            image_paths.append(img_path)\n",
    "            labels.append(class_name)"
   ]
  },
  {
   "cell_type": "code",
   "execution_count": 6,
   "id": "01cdfcc2",
   "metadata": {},
   "outputs": [],
   "source": [
    "# Splitting the data into train, validation, and test sets\n",
    "X_train_paths, X_temp_paths, y_train, y_temp = train_test_split(image_paths, labels, test_size=0.3, random_state=42)\n",
    "X_val_paths, X_test_paths, y_val, y_test = train_test_split(X_temp_paths, y_temp, test_size=0.5, random_state=42)\n"
   ]
  },
  {
   "cell_type": "code",
   "execution_count": 7,
   "id": "e8517bbc",
   "metadata": {},
   "outputs": [],
   "source": [
    "# Load texture features from disk\n",
    "X_train_texture = np.load(os.path.join('Downloads', r\"C:\\Users\\HP\\Downloads\\X_train_texture.npy\"))\n",
    "X_val_texture = np.load(os.path.join('Downloads', r\"C:\\Users\\HP\\Downloads\\X_val_texture.npy\"))\n",
    "X_test_texture = np.load(os.path.join('Downloads', r\"C:\\Users\\HP\\Downloads\\X_test_texture.npy\"))"
   ]
  },
  {
   "cell_type": "code",
   "execution_count": 8,
   "id": "667918b8",
   "metadata": {},
   "outputs": [],
   "source": [
    "# Convert to numpy arrays\n",
    "X_train_texture = np.array(X_train_texture)\n",
    "X_val_texture = np.array(X_val_texture)\n",
    "X_test_texture = np.array(X_test_texture)"
   ]
  },
  {
   "cell_type": "code",
   "execution_count": 9,
   "id": "87e1a7e3",
   "metadata": {},
   "outputs": [],
   "source": [
    "# Convert labels to numerical format\n",
    "label_encoder = LabelEncoder()\n",
    "y_train_encoded = label_encoder.fit_transform(y_train)\n",
    "y_val_encoded = label_encoder.transform(y_val)\n",
    "y_test_encoded = label_encoder.transform(y_test)\n",
    "num_classes = len(label_encoder.classes_)"
   ]
  },
  {
   "cell_type": "code",
   "execution_count": 10,
   "id": "ae3d6468",
   "metadata": {},
   "outputs": [],
   "source": [
    "# Convert numerical labels to one-hot encoded vectors\n",
    "y_train_onehot = to_categorical(y_train_encoded, num_classes)\n",
    "y_val_onehot = to_categorical(y_val_encoded, num_classes)\n",
    "y_test_onehot = to_categorical(y_test_encoded, num_classes)"
   ]
  },
  {
   "cell_type": "code",
   "execution_count": 11,
   "id": "c7aeacf5",
   "metadata": {},
   "outputs": [
    {
     "data": {
      "text/plain": [
       "(12,)"
      ]
     },
     "execution_count": 11,
     "metadata": {},
     "output_type": "execute_result"
    }
   ],
   "source": [
    "# Define input shapes for texture features\n",
    "texture_input_shape = (X_train_texture.shape[1],)  # Shape of texture features\n",
    "texture_input_shape"
   ]
  },
  {
   "cell_type": "code",
   "execution_count": 12,
   "id": "a4e9f229",
   "metadata": {},
   "outputs": [
    {
     "data": {
      "text/plain": [
       "array([2.45259278e-02, 2.46418163e-02, 2.29782008e+01, 2.34822008e+01,\n",
       "       9.93182452e-01, 9.93041106e-01, 2.81879225e-01, 2.85214786e-01,\n",
       "       3.42755020e+00, 3.40065863e+00, 6.01521137e-04, 6.07219109e-04])"
      ]
     },
     "execution_count": 12,
     "metadata": {},
     "output_type": "execute_result"
    }
   ],
   "source": [
    "X_train_texture[0]"
   ]
  },
  {
   "cell_type": "code",
   "execution_count": 13,
   "id": "c3173f81",
   "metadata": {},
   "outputs": [
    {
     "data": {
      "text/plain": [
       "((119961, 12), (25707, 12), (25706, 12))"
      ]
     },
     "execution_count": 13,
     "metadata": {},
     "output_type": "execute_result"
    }
   ],
   "source": [
    "X_train_texture.shape, X_test_texture.shape, X_val_texture.shape"
   ]
  },
  {
   "cell_type": "code",
   "execution_count": null,
   "id": "14df8b94",
   "metadata": {},
   "outputs": [],
   "source": []
  },
  {
   "cell_type": "code",
   "execution_count": 14,
   "id": "f83398af",
   "metadata": {},
   "outputs": [
    {
     "data": {
      "text/plain": [
       "<KerasTensor: shape=(None, 12) dtype=float32 (created by layer 'texture_input')>"
      ]
     },
     "execution_count": 14,
     "metadata": {},
     "output_type": "execute_result"
    }
   ],
   "source": [
    "# Define input layers for texture features\n",
    "texture_input = Input(shape=texture_input_shape, name='texture_input')\n",
    "texture_input"
   ]
  },
  {
   "cell_type": "code",
   "execution_count": 15,
   "id": "6ceac4a6",
   "metadata": {},
   "outputs": [],
   "source": [
    "import time\n",
    "\n",
    "# Define model parameters for each individual model\n",
    "svm_params = {\n",
    "    'model': SVC(),\n",
    "    'params': {\n",
    "        'C': [10],\n",
    "        'kernel': ['rbf'],\n",
    "        'gamma': ['scale']\n",
    "    }\n",
    "}\n",
    "\n",
    "# random_forest_params = {\n",
    "#     'model': RandomForestClassifier(),\n",
    "#     'params': {\n",
    "#         'n_estimators': [50, 100, 200],\n",
    "#         'max_depth': [None, 10, 20, 30]\n",
    "#     }\n",
    "# }\n",
    "\n",
    "# logistic_regression_params = {\n",
    "#     'model': LogisticRegression(),\n",
    "#     'params': {\n",
    "#         'C': [0.1, 1, 10],\n",
    "#         'solver': ['newton-cg', 'lbfgs', 'liblinear', 'sag', 'saga']\n",
    "#     }\n",
    "# }\n",
    "\n",
    "# decision_tree_params = {\n",
    "#     'model': DecisionTreeClassifier(),\n",
    "#     'params': {\n",
    "#         'criterion': ['gini', 'entropy'],\n",
    "#         'max_depth': [None, 10, 20, 30]\n",
    "#     }\n",
    "# }"
   ]
  },
  {
   "cell_type": "code",
   "execution_count": null,
   "id": "0a45ae97",
   "metadata": {},
   "outputs": [],
   "source": [
    "# Results storage\n",
    "scores = []\n",
    "\n",
    "# Measure time for each model\n",
    "start_time = time.time()\n",
    "\n",
    "# Model: SVM\n",
    "clf_svm = GridSearchCV(svm_params['model'], svm_params['params'], cv=5, return_train_score=False)\n",
    "clf_svm.fit(X_train_texture, y_train_encoded)\n",
    "y_pred_svm = clf_svm.predict(X_test_texture)\n",
    "scores.append({\n",
    "    'model': 'svm',\n",
    "    'best_score': clf_svm.best_score_,\n",
    "    'accuracy_score': accuracy_score(y_pred_svm, y_test_encoded),\n",
    "    'best_params': clf_svm.best_params_\n",
    "})\n",
    "print(\"SVM Model completed in %.2f seconds\" % (time.time() - start_time))"
   ]
  },
  {
   "cell_type": "code",
   "execution_count": null,
   "id": "60cfee31",
   "metadata": {},
   "outputs": [],
   "source": []
  },
  {
   "cell_type": "code",
   "execution_count": null,
   "id": "5a575d3a",
   "metadata": {},
   "outputs": [],
   "source": []
  },
  {
   "cell_type": "code",
   "execution_count": null,
   "id": "d8e2476d",
   "metadata": {},
   "outputs": [],
   "source": [
    "# # Results storage\n",
    "# scores = []\n",
    "\n",
    "# # Measure time for each model\n",
    "# for model_name, params in zip(['svm', 'random_forest', 'logistic_regression', 'decision_tree'], \n",
    "#                               [svm_params, random_forest_params, logistic_regression_params, decision_tree_params]):\n",
    "#     start_time = time.time()\n",
    "\n",
    "#     clf = GridSearchCV(params['model'], params['params'], cv=5, return_train_score=False)\n",
    "#     clf.fit(X_train_texture, y_train_encoded)\n",
    "#     y_pred = clf.predict(X_test_texture)\n",
    "    \n",
    "#     scores.append({\n",
    "#         'model': model_name,\n",
    "#         'best_score': clf.best_score_,\n",
    "#         'accuracy_score': accuracy_score(y_pred, y_test_encoded),\n",
    "#         'best_params': clf.best_params_\n",
    "#     })\n",
    "    \n",
    "#     elapsed_time = time.time() - start_time\n",
    "#     remaining_time = elapsed_time * (len(model_params) - len(scores))\n",
    "#     print(f\"{model_name.capitalize()} Model completed in {elapsed_time:.2f} seconds. Estimated remaining time: {remaining_time:.2f} seconds.\")\n",
    "\n",
    "# # Convert scores to DataFrame\n",
    "# df = pd.DataFrame(scores, columns=['model', 'best_score', 'accuracy_score', 'best_params'])\n",
    "# print(df)"
   ]
  },
  {
   "cell_type": "code",
   "execution_count": null,
   "id": "f3fdf54d",
   "metadata": {},
   "outputs": [],
   "source": []
  }
 ],
 "metadata": {
  "kernelspec": {
   "display_name": "Python 3 (ipykernel)",
   "language": "python",
   "name": "python3"
  },
  "language_info": {
   "codemirror_mode": {
    "name": "ipython",
    "version": 3
   },
   "file_extension": ".py",
   "mimetype": "text/x-python",
   "name": "python",
   "nbconvert_exporter": "python",
   "pygments_lexer": "ipython3",
   "version": "3.10.7"
  }
 },
 "nbformat": 4,
 "nbformat_minor": 5
}
